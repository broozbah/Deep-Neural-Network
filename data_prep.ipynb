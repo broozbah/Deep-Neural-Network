{
 "cells": [
  {
   "cell_type": "markdown",
   "metadata": {},
   "source": [
    " `ROOT` to `HDF5` Conversion\n"
   ]
  },
  {
   "cell_type": "code",
   "execution_count": 1,
   "metadata": {},
   "outputs": [
    {
     "name": "stderr",
     "output_type": "stream",
     "text": [
      "INFO:rootpy.root2hdf5] Converting samples/ZprimeToTT_M6000_W600_total_mm.root ...\n",
      "INFO:rootpy.root2hdf5] Will convert 8 trees in /\n",
      "INFO:rootpy.root2hdf5] Converting tree 'T_0' with 0 entries ...\n",
      "INFO:rootpy.root2hdf5] Converting tree 'T_1' with 2 entries ...\n",
      "INFO:rootpy.root2hdf5] Converting tree 'T_2' with 3 entries ...\n",
      "INFO:rootpy.root2hdf5] Converting tree 'T_3' with 22 entries ...\n",
      "INFO:rootpy.root2hdf5] Converting tree 'T_4' with 5 entries ...\n",
      "INFO:rootpy.root2hdf5] Converting tree 'T_5' with 24 entries ...\n",
      "INFO:rootpy.root2hdf5] Converting tree 'T_6' with 155 entries ...\n",
      "INFO:rootpy.root2hdf5] Converting tree 'T_7' with 951 entries ...\n",
      "INFO:rootpy.root2hdf5] Created samples/ZprimeToTT_M6000_W600_total_mm.h5\n",
      "INFO:rootpy.root2hdf5] Converting samples/TTbar0-700_mm.root ...\n",
      "INFO:rootpy.root2hdf5] Will convert 8 trees in /\n",
      "INFO:rootpy.root2hdf5] Converting tree 'T_0' with 196 entries ...\n",
      "INFO:rootpy.root2hdf5] Converting tree 'T_1' with 477 entries ...\n",
      "INFO:rootpy.root2hdf5] Converting tree 'T_2' with 743 entries ...\n",
      "INFO:rootpy.root2hdf5] Converting tree 'T_3' with 5007 entries ...\n",
      "INFO:rootpy.root2hdf5] Converting tree 'T_4' with 2279 entries ...\n",
      "INFO:rootpy.root2hdf5] Converting tree 'T_5' with 4835 entries ...\n",
      "INFO:rootpy.root2hdf5] Converting tree 'T_6' with 8073 entries ...\n",
      "INFO:rootpy.root2hdf5] Converting tree 'T_7' with 42872 entries ...\n",
      "INFO:rootpy.root2hdf5] Created samples/TTbar0-700_mm.h5\n"
     ]
    }
   ],
   "source": [
    "%%bash\n",
    "#root2hdf5 -f samples/ZprimeToTT_M6000_W600_total_mm.root\n",
    "\n",
    "#root2hdf5 -f samples/TTbar0-700_mm.root"
   ]
  },
  {
   "cell_type": "code",
   "execution_count": 2,
   "metadata": {},
   "outputs": [
    {
     "name": "stderr",
     "output_type": "stream",
     "text": [
      "/cvmfs/cms.cern.ch/slc7_amd64_gcc700/external/py2-pippkgs_depscipy/3.0-omkpbe4/lib/python2.7/site-packages/h5py/__init__.py:36: FutureWarning: Conversion of the second argument of issubdtype from `float` to `np.floating` is deprecated. In future, it will be treated as `np.float64 == np.dtype(float).type`.\n",
      "  from ._conv import register_converters as _register_converters\n",
      "/cvmfs/cms.cern.ch/slc7_amd64_gcc700/external/py2-matplotlib/1.5.2-omkpbe4/lib/python2.7/site-packages/matplotlib/font_manager.py:273: UserWarning: Matplotlib is building the font cache using fc-list. This may take a moment.\n",
      "  warnings.warn('Matplotlib is building the font cache using fc-list. This may take a moment.')\n"
     ]
    },
    {
     "name": "stdout",
     "output_type": "stream",
     "text": [
      "('top_xl_7', 'antitop_xl_7', 'cosTheta1r_7', 'cosTheta2r_7', 'rmin0_7', 'rmin1_7', 'sT_met_7', 'MT2r_7', 'weight_7', 'channel_7', 'MCTruth_MP_7', 'MCTruth_WP_7')\n",
      "('top_xl_7', 'antitop_xl_7', 'cosTheta1r_7', 'cosTheta2r_7', 'rmin0_7', 'rmin1_7', 'sT_met_7', 'MT2r_7', 'weight_7', 'channel_7', 'MCTruth_MP_7', 'MCTruth_WP_7')\n"
     ]
    }
   ],
   "source": [
    "import numpy as np\n",
    "import os\n",
    "import h5py\n",
    "import matplotlib.pyplot as plt\n",
    "import seaborn as sns\n",
    "\n",
    "\n",
    "channel = ['mm']\n",
    "filename = {}  \n",
    "h5file = {}\n",
    "params = {}\n",
    "features = {}\n",
    "Tree_name = unicode('T_7')\n",
    "\n",
    "\n",
    "for i in range(0,len(channel)):\n",
    "    filename[('bkg',channel[i])] = 'samples/TTbar0-700_' + channel[i] + '.h5'\n",
    "    filename[('sig',channel[i])] = 'samples/ZprimeToTT_M6000_W600_total_' + channel[i] + '.h5'\n",
    "\n",
    "for k in filename.keys():\n",
    "    if not os.path.isfile(filename[k]):\n",
    "        print 'file %s not found' % filename[k]\n",
    "    if not os.access(filename[k], os.R_OK):\n",
    "        print 'file %s not readable' % filename[k]\n",
    "     \n",
    "for k in filename.keys():\n",
    "    h5file[k] = h5py.File(filename[k], 'r')\n",
    "    params[k] = h5file[k][Tree_name][()] \n",
    "    print(params[k].dtype.names)\n",
    "    features = params[k].dtype.names[0:8];\n",
    "    h5file[k].close()\n"
   ]
  },
  {
   "cell_type": "code",
   "execution_count": null,
   "metadata": {},
   "outputs": [],
   "source": []
  },
  {
   "cell_type": "code",
   "execution_count": null,
   "metadata": {},
   "outputs": [],
   "source": []
  }
 ],
 "metadata": {
  "kernelspec": {
   "display_name": "machine-learning-hats",
   "language": "python",
   "name": "machine-learning-hats"
  },
  "language_info": {
   "codemirror_mode": {
    "name": "ipython",
    "version": 2
   },
   "file_extension": ".py",
   "mimetype": "text/x-python",
   "name": "python",
   "nbconvert_exporter": "python",
   "pygments_lexer": "ipython2",
   "version": "2.7.14+"
  }
 },
 "nbformat": 4,
 "nbformat_minor": 2
}
