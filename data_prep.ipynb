{
 "cells": [
  {
   "cell_type": "markdown",
   "metadata": {},
   "source": [
    " `ROOT` to `HDF5` Conversion\n"
   ]
  },
  {
   "cell_type": "code",
   "execution_count": 9,
   "metadata": {},
   "outputs": [
    {
     "name": "stderr",
     "output_type": "stream",
     "text": [
      "INFO:rootpy.root2hdf5] Converting samples/ZprimeToTT_M5000_W500_total_em.root ...\n",
      "INFO:rootpy.root2hdf5] Will convert 8 trees in /\n",
      "INFO:rootpy.root2hdf5] Converting tree 'T_0' with 0 entries ...\n",
      "INFO:rootpy.root2hdf5] Converting tree 'T_1' with 0 entries ...\n",
      "INFO:rootpy.root2hdf5] Converting tree 'T_2' with 5 entries ...\n",
      "INFO:rootpy.root2hdf5] Converting tree 'T_3' with 42 entries ...\n",
      "INFO:rootpy.root2hdf5] Converting tree 'T_4' with 7 entries ...\n",
      "INFO:rootpy.root2hdf5] Converting tree 'T_5' with 46 entries ...\n",
      "INFO:rootpy.root2hdf5] Converting tree 'T_6' with 153 entries ...\n",
      "INFO:rootpy.root2hdf5] Converting tree 'T_7' with 1101 entries ...\n",
      "INFO:rootpy.root2hdf5] Created samples/ZprimeToTT_M5000_W500_total_em.h5\n"
     ]
    }
   ],
   "source": [
    "%%bash\n",
    "#root2hdf5 -f samples/ZprimeToTT_M5000_W500_total_em.root"
   ]
  },
  {
   "cell_type": "code",
   "execution_count": 1,
   "metadata": {},
   "outputs": [
    {
     "name": "stderr",
     "output_type": "stream",
     "text": [
      "/cvmfs/cms.cern.ch/slc7_amd64_gcc700/external/py2-pippkgs_depscipy/3.0-omkpbe4/lib/python2.7/site-packages/h5py/__init__.py:36: FutureWarning: Conversion of the second argument of issubdtype from `float` to `np.floating` is deprecated. In future, it will be treated as `np.float64 == np.dtype(float).type`.\n",
      "  from ._conv import register_converters as _register_converters\n"
     ]
    },
    {
     "name": "stdout",
     "output_type": "stream",
     "text": [
      "('top_xl_7', 'antitop_xl_7', 'cosTheta1r_7', 'cosTheta2r_7', 'rmin0_7', 'rmin1_7', 'sT_met_7', 'MT2r_7', 'weight_7', 'channel_7', 'MCTruth_MP_7', 'MCTruth_WP_7')\n",
      "('top_xl_7', 'antitop_xl_7', 'cosTheta1r_7', 'cosTheta2r_7', 'rmin0_7', 'rmin1_7', 'sT_met_7', 'MT2r_7', 'weight_7', 'channel_7', 'MCTruth_MP_7', 'MCTruth_WP_7')\n"
     ]
    }
   ],
   "source": [
    "import numpy as np\n",
    "import os\n",
    "import h5py\n",
    "import matplotlib.pyplot as plt\n",
    "import seaborn as sns\n",
    "\n",
    "\n",
    "channel = ['mm']\n",
    "filename = {}  \n",
    "h5file = {}\n",
    "params = {}\n",
    "features = {}\n",
    "Tree_name = unicode('T_7')\n",
    "\n",
    "\n",
    "for i in range(0,len(channel)):\n",
    "    filename[('bkg',channel[i])] = 'samples/TTBar_' + channel[i] + '.h5'\n",
    "    filename[('sig',channel[i])] = 'samples/ZprimeToTT_M5000_W500_total_' + channel[i] + '.h5'\n",
    "\n",
    "for k in filename.keys():\n",
    "    if not os.path.isfile(filename[k]):\n",
    "        print 'file %s not found' % filename[k]\n",
    "    if not os.access(filename[k], os.R_OK):\n",
    "        print 'file %s not readable' % filename[k]\n",
    "     \n",
    "for k in filename.keys():\n",
    "    h5file[k] = h5py.File(filename[k], 'r')\n",
    "    params[k] = h5file[k][Tree_name][()] \n",
    "    print(params[k].dtype.names)\n",
    "    features = params[k].dtype.names[0:8];\n",
    "    h5file[k].close()\n"
   ]
  },
  {
   "cell_type": "code",
   "execution_count": null,
   "metadata": {},
   "outputs": [],
   "source": []
  },
  {
   "cell_type": "code",
   "execution_count": null,
   "metadata": {},
   "outputs": [],
   "source": []
  }
 ],
 "metadata": {
  "kernelspec": {
   "display_name": "machine-learning-hats",
   "language": "python",
   "name": "machine-learning-hats"
  },
  "language_info": {
   "codemirror_mode": {
    "name": "ipython",
    "version": 2
   },
   "file_extension": ".py",
   "mimetype": "text/x-python",
   "name": "python",
   "nbconvert_exporter": "python",
   "pygments_lexer": "ipython2",
   "version": "2.7.14+"
  }
 },
 "nbformat": 4,
 "nbformat_minor": 2
}
